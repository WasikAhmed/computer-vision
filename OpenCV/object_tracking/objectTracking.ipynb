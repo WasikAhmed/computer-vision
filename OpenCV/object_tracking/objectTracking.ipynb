{
 "cells": [
  {
   "cell_type": "markdown",
   "metadata": {},
   "source": [
    "# Object Tracking Using OpenCV"
   ]
  },
  {
   "cell_type": "markdown",
   "metadata": {},
   "source": [
    "## Importing Modules"
   ]
  },
  {
   "cell_type": "code",
   "execution_count": null,
   "metadata": {},
   "outputs": [],
   "source": [
    "import os\n",
    "import sys\n",
    "import cv2\n",
    "import numpy as np\n",
    "import matplotlib.pyplot as plt\n",
    "\n",
    "from zipfile import ZipFile\n",
    "from urllib.request import urlretrieve\n",
    "\n",
    "from IPython.display import HTML\n",
    "from matplotlib.animation import FuncAnimation\n",
    "\n",
    "from IPython.display import YouTubeVideo, display, HTML\n",
    "from base64 import b64encode\n",
    "\n",
    "%matplotlib inline"
   ]
  },
  {
   "cell_type": "markdown",
   "metadata": {},
   "source": [
    "## Downloading assets"
   ]
  },
  {
   "cell_type": "code",
   "execution_count": null,
   "metadata": {},
   "outputs": [],
   "source": [
    "def download_and_unzip(url, target_dir):\n",
    "    print(\"Downloading and extracting...\", end=\"\")\n",
    "    \n",
    "    urlretrieve(url, target_dir)\n",
    "    \n",
    "    try:\n",
    "        with ZipFile(target_dir) as z:\n",
    "            z.extractall(os.path.split(target_dir)[0])\n",
    "        \n",
    "        print(\"Done.\")\n",
    "    except Exception as e:\n",
    "        print(\"Failed.\", e, end=\"\\n\")"
   ]
  },
  {
   "cell_type": "code",
   "execution_count": null,
   "metadata": {},
   "outputs": [],
   "source": [
    "URL = r\"https://www.dropbox.com/s/ld535c8e0vueq6x/opencv_bootcamp_assets_NB11.zip?dl=1\"\n",
    "\n",
    "asset_zip_path = os.path.join(os.getcwd(), \"opencv_bootcamp_assets_NB11.zip\")\n",
    "\n",
    "# Download if assest ZIP does not exists.\n",
    "if not os.path.exists(asset_zip_path):\n",
    "    download_and_unzip(URL, asset_zip_path)"
   ]
  },
  {
   "cell_type": "markdown",
   "metadata": {},
   "source": [
    "## Reading the video"
   ]
  },
  {
   "cell_type": "code",
   "execution_count": null,
   "metadata": {},
   "outputs": [],
   "source": [
    "v = open(\"race_car.mp4\", \"rb\").read()\n",
    "data_url = \"data:video/mp4;base64,\" + b64encode(v).decode() # encode the video as base64\n",
    "\n",
    "HTML(f\"\"\"<video width=1024 controls><source src=\"{data_url}\" type=\"video/mp4\"></video>\"\"\")"
   ]
  },
  {
   "cell_type": "code",
   "execution_count": null,
   "metadata": {},
   "outputs": [],
   "source": [
    "video_input_file_name = \"race_car.mp4\"\n",
    "\n",
    "\n",
    "def drawRectangle(frame, bbox):\n",
    "    p1 = (int(bbox[0]), int(bbox[1]))\n",
    "    p2 = (int(bbox[0] + bbox[2]), int(bbox[1] + bbox[3]))\n",
    "    cv2.rectangle(frame, p1, p2, (255, 0, 0), 2, 1)\n",
    "\n",
    "\n",
    "def displayRectangle(frame, bbox):\n",
    "    plt.figure(figsize=(20, 10))\n",
    "    frameCopy = frame.copy()\n",
    "    drawRectangle(frameCopy, bbox)\n",
    "    frameCopy = cv2.cvtColor(frameCopy, cv2.COLOR_RGB2BGR)\n",
    "    plt.imshow(frameCopy)\n",
    "    plt.axis(\"off\")\n",
    "\n",
    "\n",
    "def drawText(frame, txt, location, color=(50, 170, 50)):\n",
    "    cv2.putText(frame, txt, location, cv2.FONT_HERSHEY_SIMPLEX, 1, color, 3)"
   ]
  },
  {
   "cell_type": "markdown",
   "metadata": {},
   "source": [
    "## Defining the tracker"
   ]
  },
  {
   "cell_type": "code",
   "execution_count": null,
   "metadata": {},
   "outputs": [],
   "source": [
    "# Set up tracker\n",
    "tracker_types = [\n",
    "    \"BOOSTING\",\n",
    "    \"MIL\",\n",
    "    \"KCF\",\n",
    "    \"CSRT\",\n",
    "    \"TLD\",\n",
    "    \"MEDIANFLOW\",\n",
    "    \"GOTURN\",\n",
    "    \"MOSSE\",\n",
    "]\n",
    "\n",
    "# Change the index to change the tracker type\n",
    "tracker_type = tracker_types[2]\n",
    "\n",
    "if tracker_type == \"BOOSTING\":\n",
    "    tracker = cv2.legacy.TrackerBoosting.create()\n",
    "elif tracker_type == \"MIL\":\n",
    "    tracker = cv2.legacy.TrackerMIL.create()\n",
    "elif tracker_type == \"KCF\":\n",
    "    tracker = cv2.TrackerKCF.create()\n",
    "elif tracker_type == \"CSRT\":\n",
    "    tracker = cv2.TrackerCSRT.create()\n",
    "elif tracker_type == \"TLD\":\n",
    "    tracker = cv2.legacy.TrackerTLD.create()\n",
    "elif tracker_type == \"MEDIANFLOW\":\n",
    "    tracker = cv2.legacy.TrackerMedianFlow.create()\n",
    "elif tracker_type == \"GOTURN\":\n",
    "    tracker = cv2.TrackerGOTURN.create()\n",
    "else:\n",
    "    tracker = cv2.legacy.TrackerMOSSE.create()"
   ]
  },
  {
   "cell_type": "markdown",
   "metadata": {},
   "source": [
    "## Tracking the object"
   ]
  },
  {
   "cell_type": "code",
   "execution_count": null,
   "metadata": {},
   "outputs": [],
   "source": [
    "# Read video\n",
    "video = cv2.VideoCapture(video_input_file_name)\n",
    "ok, frame = video.read()\n",
    "\n",
    "# Exit if video not opened\n",
    "if not video.isOpened():\n",
    "    print(\"Could not open video\")\n",
    "    sys.exit()\n",
    "else:\n",
    "    width = int(video.get(cv2.CAP_PROP_FRAME_WIDTH))\n",
    "    height = int(video.get(cv2.CAP_PROP_FRAME_HEIGHT))\n",
    "\n",
    "video_output_file_name = \"race_car-\" + tracker_type + \".mp4\"\n",
    "video_out = cv2.VideoWriter(video_output_file_name, cv2.VideoWriter_fourcc(*\"XVID\"), 10, (width, height))\n",
    "\n",
    "video_output_file_name"
   ]
  },
  {
   "cell_type": "code",
   "execution_count": null,
   "metadata": {},
   "outputs": [],
   "source": [
    "# Define a bounding box\n",
    "bbox = (1300, 405, 160, 120)\n",
    "# bbox = cv2.selectROI(frame, False)\n",
    "# print(bbox)\n",
    "displayRectangle(frame, bbox)"
   ]
  },
  {
   "cell_type": "markdown",
   "metadata": {},
   "source": [
    "## Initializing the tracker"
   ]
  },
  {
   "cell_type": "code",
   "execution_count": null,
   "metadata": {},
   "outputs": [],
   "source": [
    "# Initialize tracker with first frame and bounding box\n",
    "\n",
    "ok = tracker.init(frame, bbox)"
   ]
  },
  {
   "cell_type": "code",
   "execution_count": null,
   "metadata": {},
   "outputs": [],
   "source": [
    "while True:\n",
    "    ok, frame = video.read()\n",
    "\n",
    "    if not ok:\n",
    "        break\n",
    "\n",
    "    # Start timer\n",
    "    timer = cv2.getTickCount()\n",
    "\n",
    "    # Update tracker\n",
    "    ok, bbox = tracker.update(frame)\n",
    "\n",
    "    # Calculate Frames per second (FPS)\n",
    "    fps = cv2.getTickFrequency() / (cv2.getTickCount() - timer)\n",
    "\n",
    "    # Draw bounding box\n",
    "    if ok:\n",
    "        drawRectangle(frame, bbox)\n",
    "    else:\n",
    "        drawText(frame, \"Tracking failure detected\", (80, 140), (0, 0, 255))\n",
    "\n",
    "    # Display Info\n",
    "    drawText(frame, tracker_type + \" Tracker\", (80, 60))\n",
    "    drawText(frame, \"FPS : \" + str(int(fps)), (80, 100))\n",
    "\n",
    "    # Write frame to video\n",
    "    video_out.write(frame)\n",
    "\n",
    "video.release()\n",
    "video_out.release()"
   ]
  },
  {
   "cell_type": "markdown",
   "metadata": {},
   "source": [
    "## Changing the video encoding\n",
    "\n",
    "### <font color=\"green\">Installing ffmpeg</font>"
   ]
  },
  {
   "cell_type": "code",
   "execution_count": null,
   "metadata": {},
   "outputs": [],
   "source": [
    "# on mac\n",
    "# !brew install ffmpeg\n",
    "\n",
    "# on linux\n",
    "# !apt-get -qq install ffmpeg"
   ]
  },
  {
   "cell_type": "markdown",
   "metadata": {},
   "source": [
    "### <font color=\"green\">Change video encoding of mp4 file from XVID to h264</font>"
   ]
  },
  {
   "cell_type": "code",
   "execution_count": null,
   "metadata": {},
   "outputs": [],
   "source": [
    "!ffmpeg -y -i {video_output_file_name} -c:v libx264 $\"race_car_track_x264.mp4\"  -hide_banner -loglevel error"
   ]
  },
  {
   "cell_type": "code",
   "execution_count": null,
   "metadata": {},
   "outputs": [],
   "source": [
    "mp4 = open(\"$race_car_track_x264.mp4\", \"rb\").read()\n",
    "data_url = \"data:video/mp4;base64,\" + b64encode(mp4).decode()\n",
    "\n",
    "HTML(f\"\"\"<video width=1024 controls><source src=\"{data_url}\" type=\"video/mp4\"></video>\"\"\")"
   ]
  }
 ],
 "metadata": {
  "kernelspec": {
   "display_name": "opencv-env",
   "language": "python",
   "name": "python3"
  },
  "language_info": {
   "codemirror_mode": {
    "name": "ipython",
    "version": 3
   },
   "file_extension": ".py",
   "mimetype": "text/x-python",
   "name": "python",
   "nbconvert_exporter": "python",
   "pygments_lexer": "ipython3",
   "version": "3.13.0"
  }
 },
 "nbformat": 4,
 "nbformat_minor": 2
}
